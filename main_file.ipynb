{
  "nbformat": 4,
  "nbformat_minor": 0,
  "metadata": {
    "colab": {
      "provenance": [],
      "authorship_tag": "ABX9TyO10nuD6M6AKkZnkxS7qbQL",
      "include_colab_link": true
    },
    "kernelspec": {
      "name": "python3",
      "display_name": "Python 3"
    },
    "language_info": {
      "name": "python"
    }
  },
  "cells": [
    {
      "cell_type": "markdown",
      "metadata": {
        "id": "view-in-github",
        "colab_type": "text"
      },
      "source": [
        "<a href=\"https://colab.research.google.com/github/HorlyYinky17/CWW-_Tech-Individual-Project/blob/main/main_file.ipynb\" target=\"_parent\"><img src=\"https://colab.research.google.com/assets/colab-badge.svg\" alt=\"Open In Colab\"/></a>"
      ]
    },
    {
      "cell_type": "markdown",
      "source": [
        "This is the main python file"
      ],
      "metadata": {
        "id": "QoRBoh1uZKTi"
      }
    },
    {
      "cell_type": "code",
      "source": [
        "from MCQ_Class import MCQ\n",
        "\n",
        "# List of Questions and options to choose from\n",
        "Question = [\n",
        "    \"1. What is the sum of 5 and 7? \\n (a)12 \\n (b)6 \\n (c)5 \\n (d)9\\n\\n\",\n",
        "    \"2. What is the product of 5 and 7? \\n (a)12 \\n (b)6 \\n (c)35 \\n (d)19\\n\\n\",\n",
        "    \"3. Who is the president of USA \\n (a)Donald Trump \\n (b) liz truzz \\n (c)Dan Fodio\"\n",
        "    \" \\n (d)Buhari\\n\\n\",\n",
        "    \"4. How many days are in a week \\n (a)5 \\n (b)6 \\n (c)7 \\n (d)8\\n\\n\",\n",
        "    \"5. How many consonants are there in the english alphabet \\n (a)20 \\n (b)21 \\n (c)22 \\n (d)23\\n\\n\",\n",
        "]\n",
        "\n",
        "# List of answers to the questions\n",
        "obj_questions = [\n",
        "    MCQ(Question[0], \"a\"),\n",
        "    MCQ(Question[1], \"c\"),\n",
        "    MCQ(Question[2], \"c\"),\n",
        "    MCQ(Question[3], \"b\"),\n",
        "    MCQ(Question[4], \"a\")\n",
        "\n",
        "]\n",
        "\n",
        "\n",
        "# function that receives user input, check if it is correct, calculate the score and\n",
        "# returns the value\n",
        "\n",
        "\n",
        "def user_score():\n",
        "    total_score = 0\n",
        "    for question in obj_questions:\n",
        "        answer = input(question.ask)\n",
        "        if answer == question.answer:\n",
        "            total_score += 1\n",
        "    print(f\"You got {total_score} of {len(obj_questions)} correctly! \")\n",
        "    return total_score\n",
        "\n",
        "\n",
        "'''\n",
        "def ratio():\n",
        "    fish = user_score() / len(obj_questions)\n",
        "    if fish >= 0.5:\n",
        "        print(\"You Passed! \")\n",
        "    else:\n",
        "        print(\"You failed\")\n",
        "\n",
        "ratio()\n",
        "'''\n",
        "\n",
        "\n",
        "def factors():\n",
        "    ratio = user_score() / len(obj_questions)\n",
        "    return ratio\n",
        "# print(f\"You got {user_score(obj_questions)} of {len(obj_questions)} correctly!\")\n",
        "\n",
        "\n",
        "# f\"you got {user_score(obj_questions)} of {len(obj_questions)}\n",
        "\n",
        "def grade():\n",
        "    # student_grade = factors()\n",
        "    # student_grade = user_score(obj_questions) / len(obj_questions)\n",
        "    if factors() >= 0.5:\n",
        "        print(\"You got above the pass mark You passed\")\n",
        "    else:\n",
        "        print(\"You failed\")\n",
        "\n",
        "\n",
        "def result():\n",
        "    grade()\n",
        "\n",
        "\n",
        "result()\n"
      ],
      "metadata": {
        "colab": {
          "base_uri": "https://localhost:8080/",
          "height": 383
        },
        "id": "rMbECm0uZN1-",
        "outputId": "6d01e5ce-ba04-4b73-c1ae-627641c846cb"
      },
      "execution_count": 4,
      "outputs": [
        {
          "output_type": "error",
          "ename": "ModuleNotFoundError",
          "evalue": "No module named 'MCQ_Class'",
          "traceback": [
            "\u001b[0;31m---------------------------------------------------------------------------\u001b[0m",
            "\u001b[0;31mModuleNotFoundError\u001b[0m                       Traceback (most recent call last)",
            "\u001b[0;32m<ipython-input-4-66afa01f2fec>\u001b[0m in \u001b[0;36m<cell line: 1>\u001b[0;34m()\u001b[0m\n\u001b[0;32m----> 1\u001b[0;31m \u001b[0;32mfrom\u001b[0m \u001b[0mMCQ_Class\u001b[0m \u001b[0;32mimport\u001b[0m \u001b[0mMCQ\u001b[0m\u001b[0;34m\u001b[0m\u001b[0;34m\u001b[0m\u001b[0m\n\u001b[0m\u001b[1;32m      2\u001b[0m \u001b[0;34m\u001b[0m\u001b[0m\n\u001b[1;32m      3\u001b[0m \u001b[0;31m# List of Questions and options to choose from\u001b[0m\u001b[0;34m\u001b[0m\u001b[0;34m\u001b[0m\u001b[0m\n\u001b[1;32m      4\u001b[0m Question = [\n\u001b[1;32m      5\u001b[0m     \u001b[0;34m\"1. What is the sum of 5 and 7? \\n (a)12 \\n (b)6 \\n (c)5 \\n (d)9\\n\\n\"\u001b[0m\u001b[0;34m,\u001b[0m\u001b[0;34m\u001b[0m\u001b[0;34m\u001b[0m\u001b[0m\n",
            "\u001b[0;31mModuleNotFoundError\u001b[0m: No module named 'MCQ_Class'",
            "",
            "\u001b[0;31m---------------------------------------------------------------------------\u001b[0;32m\nNOTE: If your import is failing due to a missing package, you can\nmanually install dependencies using either !pip or !apt.\n\nTo view examples of installing some common dependencies, click the\n\"Open Examples\" button below.\n\u001b[0;31m---------------------------------------------------------------------------\u001b[0m\n"
          ],
          "errorDetails": {
            "actions": [
              {
                "action": "open_url",
                "actionText": "Open Examples",
                "url": "/notebooks/snippets/importing_libraries.ipynb"
              }
            ]
          }
        }
      ]
    }
  ]
}