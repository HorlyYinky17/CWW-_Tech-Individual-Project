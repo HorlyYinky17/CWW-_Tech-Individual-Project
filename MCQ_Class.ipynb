{
  "nbformat": 4,
  "nbformat_minor": 0,
  "metadata": {
    "colab": {
      "provenance": [],
      "toc_visible": true,
      "authorship_tag": "ABX9TyMBz4CyU1r3NVAhv9ZMGiGt",
      "include_colab_link": true
    },
    "kernelspec": {
      "name": "python3",
      "display_name": "Python 3"
    },
    "language_info": {
      "name": "python"
    }
  },
  "cells": [
    {
      "cell_type": "markdown",
      "metadata": {
        "id": "view-in-github",
        "colab_type": "text"
      },
      "source": [
        "<a href=\"https://colab.research.google.com/github/HorlyYinky17/CWW-_Tech-Individual-Project/blob/main/MCQ_Class.ipynb\" target=\"_parent\"><img src=\"https://colab.research.google.com/assets/colab-badge.svg\" alt=\"Open In Colab\"/></a>"
      ]
    },
    {
      "cell_type": "markdown",
      "source": [
        "This is the file with the python class"
      ],
      "metadata": {
        "id": "SI2Ree1OYQel"
      }
    },
    {
      "cell_type": "code",
      "source": [
        "class MCQ:\n",
        "    def __init__(self, ask, answer):\n",
        "        self.ask = ask\n",
        "        self.answer = answer"
      ],
      "metadata": {
        "id": "hqN2l7aFYWnk"
      },
      "execution_count": 1,
      "outputs": []
    }
  ]
}